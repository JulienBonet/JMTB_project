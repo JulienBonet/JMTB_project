{
 "cells": [
  {
   "cell_type": "code",
   "execution_count": null,
   "metadata": {},
   "outputs": [],
   "source": [
    "import pandas as pd\n",
    "import json\n",
    "import mysql.connector\n",
    "from sqlalchemy import create_engine\n",
    "from sqlalchemy import URL"
   ]
  },
  {
   "cell_type": "code",
   "execution_count": null,
   "metadata": {},
   "outputs": [],
   "source": [
    "pd.options.display.max_columns = 100"
   ]
  },
  {
   "cell_type": "code",
   "execution_count": null,
   "metadata": {},
   "outputs": [],
   "source": [
    "username = 'root'\n",
    "password='root'\n",
    "host='localhost'\n",
    "database='jmdb'\n",
    "\n",
    "engine = create_engine(f\"mysql+pymysql://{username}:{password}@{host}/{database}\")\n"
   ]
  },
  {
   "cell_type": "code",
   "execution_count": null,
   "metadata": {},
   "outputs": [],
   "source": [
    "df = pd.read_csv(\"emdb.csv\",encoding=\"utf-16\", sep = \";\")"
   ]
  },
  {
   "cell_type": "code",
   "execution_count": null,
   "metadata": {},
   "outputs": [],
   "source": [
    "df = df.rename(columns = {v : v.strip() for v in df.columns})"
   ]
  },
  {
   "cell_type": "code",
   "execution_count": null,
   "metadata": {},
   "outputs": [],
   "source": [
    "print(df.columns)"
   ]
  },
  {
   "cell_type": "markdown",
   "metadata": {},
   "source": [
    "# table movie , director et intermediaire"
   ]
  },
  {
   "cell_type": "code",
   "execution_count": null,
   "metadata": {},
   "outputs": [],
   "source": [
    "list_col_movies = ['Numéro', \"Titre\" , 'Titre alternatif',\n",
    "                   'Année','Durée', \"Chemin de l'affiche\",'Bande-annonce', \n",
    "                   'Synopsis', 'Scénario', 'Emplacement', 'Conteneur',\n",
    "                   'Commentaires', 'Support', 'Taille du fichier','ID TheMovieDb', 'ID IMDb'] #rajouter le caracteristiques de films\n",
    "df_movie = df.copy()[list_col_movies]"
   ]
  },
  {
   "cell_type": "code",
   "execution_count": null,
   "metadata": {},
   "outputs": [],
   "source": [
    "# Modifier le chemin de l'affiche pour ne conserver que la dernière partie\n",
    "df_movie[\"Chemin de l'affiche\"] = df_movie[\"Chemin de l'affiche\"].astype(str).apply(lambda x: x.split('\\\\')[-1])\n",
    "\n",
    "# Afficher le DataFrame résultant\n",
    "print(df_movie.head())  # Affiche les premières lignes du DataFrame"
   ]
  },
  {
   "cell_type": "code",
   "execution_count": null,
   "metadata": {},
   "outputs": [],
   "source": [
    "list_director_movie = [\"Réalisateur(s)\", 'Numéro']\n",
    "df_director_movie = df.copy()[list_director_movie]"
   ]
  },
  {
   "cell_type": "code",
   "execution_count": null,
   "metadata": {},
   "outputs": [],
   "source": [
    "# df_director_movie [\"Réalisateur(s)\"] = df_director_movie[\"Réalisateur(s)\"].str.split(\",\")\n",
    "df_director_movie[\"Réalisateur(s)\"] = df_director_movie[\"Réalisateur(s)\"].str.split(\",\\s*\")"
   ]
  },
  {
   "cell_type": "code",
   "execution_count": null,
   "metadata": {},
   "outputs": [],
   "source": [
    "df_director_movie  = df_director_movie.explode(\"Réalisateur(s)\")"
   ]
  },
  {
   "cell_type": "code",
   "execution_count": null,
   "metadata": {},
   "outputs": [],
   "source": [
    "df_director  = df_director_movie.explode(\"Réalisateur(s)\").drop_duplicates(\"Réalisateur(s)\").reset_index(drop=True).reset_index()\n",
    "df_director = df_director.rename(columns={\"index\":\"id\"}).drop(columns=\"Numéro\")\n",
    "\n",
    "#.reset_index().rename(columns={\"index\":\"id\"})"
   ]
  },
  {
   "cell_type": "code",
   "execution_count": null,
   "metadata": {},
   "outputs": [],
   "source": [
    "df_intermediaire_movie_director = df_director.merge(df_director_movie, on = \"Réalisateur(s)\").drop(columns=\"Réalisateur(s)\")"
   ]
  },
  {
   "cell_type": "code",
   "execution_count": null,
   "metadata": {},
   "outputs": [],
   "source": [
    "# Remplacer les valeurs NULL de la colonne 'id' par 0\n",
    "df_director['id'] = df_director['id'].fillna(0)\n",
    "# Convertir la colonne 'id' en type entier\n",
    "df_director['id'] = df_director['id'].astype(int)\n",
    "\n",
    "# Réorganiser les ID si nécessaire pour éviter les conflits\n",
    "max_id = df_director['id'].max()\n",
    "if max_id > 0:\n",
    "    df_director['id'] = df_director['id'] + 1"
   ]
  },
  {
   "cell_type": "code",
   "execution_count": null,
   "metadata": {},
   "outputs": [],
   "source": [
    "display(df_director)"
   ]
  },
  {
   "cell_type": "code",
   "execution_count": null,
   "metadata": {},
   "outputs": [],
   "source": [
    "display(df_movie)"
   ]
  },
  {
   "cell_type": "code",
   "execution_count": null,
   "metadata": {},
   "outputs": [],
   "source": [
    "display(df_intermediaire_movie_director)"
   ]
  },
  {
   "cell_type": "code",
   "execution_count": null,
   "metadata": {},
   "outputs": [],
   "source": [
    "# Trouver l'index de la ligne avec le 'Réalisateur(s)' NULL\n",
    "null_director_index = df_director[df_director['Réalisateur(s)'].isnull()].index\n",
    "\n",
    "# Si une ligne avec 'Réalisateur(s)' NULL est trouvée\n",
    "if not null_director_index.empty:\n",
    "    # Attribuer à cette ligne l'ID 0\n",
    "    df_director.loc[null_director_index, 'id'] = 0\n",
    "\n",
    "    # Décaler l'ID de la première ligne (anciennement index 0)\n",
    "    max_id = df_director['id'].max()\n",
    "    if max_id > 0:\n",
    "        df_director.loc[df_director.index[0], 'id'] = max_id + 1\n",
    "\n",
    "# Afficher le DataFrame modifié\n",
    "print(df_director.head())\n",
    "\n",
    "# Enregistrer le DataFrame modifié dans la table 'director' de la base de données\n",
    "df_director.to_sql(\"director\", index=False, con=engine, if_exists=\"replace\")\n",
    "\n",
    "# Recréer la table intermédiaire avec les données mises à jour\n",
    "df_intermediaire_movie_director = df_director.merge(df_director_movie, on=\"Réalisateur(s)\").drop(columns=\"Réalisateur(s)\")\n",
    "\n",
    "# Afficher la table intermédiaire mise à jour\n",
    "print(df_intermediaire_movie_director.head())\n",
    "\n",
    "# Enregistrer la table intermédiaire mise à jour dans la base de données\n",
    "df_intermediaire_movie_director.to_sql(\"movie_director\", index=False, con=engine, if_exists=\"replace\")"
   ]
  },
  {
   "cell_type": "code",
   "execution_count": null,
   "metadata": {},
   "outputs": [],
   "source": [
    "# df_director.to_sql(\"director\",index=False,con = engine,if_exists = \"replace\" )"
   ]
  },
  {
   "cell_type": "code",
   "execution_count": null,
   "metadata": {},
   "outputs": [],
   "source": [
    "# df_intermediaire_movie_director.to_sql(\"movie_director\",index=False,con = engine,if_exists = \"replace\" )"
   ]
  },
  {
   "cell_type": "code",
   "execution_count": null,
   "metadata": {},
   "outputs": [],
   "source": [
    "df_movie.to_sql(\"movies\",index=False,con = engine,if_exists = \"replace\" )"
   ]
  },
  {
   "cell_type": "markdown",
   "metadata": {},
   "source": [
    "# table movie, screenwriter et intermediaire"
   ]
  },
  {
   "cell_type": "code",
   "execution_count": null,
   "metadata": {},
   "outputs": [],
   "source": [
    "list_col_movies = ['Numéro', \"Titre\" , 'Titre alternatif',\n",
    "                   'Année','Durée', \"Chemin de l'affiche\",'Bande-annonce', \n",
    "                   'Synopsis', 'Scénario', 'Emplacement', 'Conteneur',\n",
    "                   'Commentaires', 'Support', 'Taille du fichier','ID TheMovieDb', 'ID IMDb'] #rajouter le caracteristiques de films\n",
    "df_movie = df.copy()[list_col_movies]"
   ]
  },
  {
   "cell_type": "code",
   "execution_count": null,
   "metadata": {},
   "outputs": [],
   "source": [
    "list_screenwriter_movie = [\"Scénariste(s)\", 'Numéro']\n",
    "df_screenwriter_movie = df.copy()[list_screenwriter_movie]"
   ]
  },
  {
   "cell_type": "code",
   "execution_count": null,
   "metadata": {},
   "outputs": [],
   "source": [
    "df_screenwriter_movie [\"Scénariste(s)\"] = df_screenwriter_movie[\"Scénariste(s)\"].str.split(\",\\s*\")"
   ]
  },
  {
   "cell_type": "code",
   "execution_count": null,
   "metadata": {},
   "outputs": [],
   "source": [
    "df_screenwriter_movie  = df_screenwriter_movie.explode(\"Scénariste(s)\")"
   ]
  },
  {
   "cell_type": "code",
   "execution_count": null,
   "metadata": {},
   "outputs": [],
   "source": [
    "df_screenwriter  = df_screenwriter_movie.explode(\"Scénariste(s)\").drop_duplicates(\"Scénariste(s)\").reset_index(drop=True).reset_index()\n",
    "df_screenwriter = df_screenwriter.rename(columns={\"index\":\"id\"}).drop(columns=\"Numéro\")"
   ]
  },
  {
   "cell_type": "code",
   "execution_count": null,
   "metadata": {},
   "outputs": [],
   "source": [
    "df_intermediaire_movie_screenwriter = df_screenwriter.merge(df_screenwriter_movie, on = \"Scénariste(s)\").drop(columns=\"Scénariste(s)\")"
   ]
  },
  {
   "cell_type": "code",
   "execution_count": null,
   "metadata": {},
   "outputs": [],
   "source": [
    "display(df_screenwriter)"
   ]
  },
  {
   "cell_type": "code",
   "execution_count": null,
   "metadata": {},
   "outputs": [],
   "source": [
    "display(df_movie)"
   ]
  },
  {
   "cell_type": "code",
   "execution_count": null,
   "metadata": {},
   "outputs": [],
   "source": [
    "display(df_intermediaire_movie_screenwriter)"
   ]
  },
  {
   "cell_type": "code",
   "execution_count": null,
   "metadata": {},
   "outputs": [],
   "source": [
    "# Trouver l'index de la ligne avec le 'Scénariste(s)' NULL\n",
    "null_screenwriter_index = df_screenwriter[df_screenwriter['Scénariste(s)'].isnull()].index\n",
    "\n",
    "# Si une ligne avec 'Scénariste(s)' NULL est trouvée\n",
    "if not null_screenwriter_index.empty:\n",
    "    # Attribuer à cette ligne l'ID 0\n",
    "    df_screenwriter.loc[null_screenwriter_index, 'id'] = 0\n",
    "\n",
    "    # Décaler l'ID de la première ligne (anciennement index 0)\n",
    "    max_id = df_screenwriter['id'].max()\n",
    "    if max_id > 0:\n",
    "        df_screenwriter.loc[df_screenwriter.index[0], 'id'] = max_id + 1\n",
    "\n",
    "# Afficher le DataFrame modifié\n",
    "print(df_screenwriter.head())\n",
    "\n",
    "# Enregistrer le DataFrame modifié dans la table 'screenwriter' de la base de données\n",
    "df_screenwriter.to_sql(\"screenwriter\", index=False, con=engine, if_exists=\"replace\")\n",
    "\n",
    "# Recréer la table intermédiaire avec les données mises à jour\n",
    "df_intermediaire_movie_screenwriter = df_screenwriter.merge(df_screenwriter_movie, on=\"Scénariste(s)\").drop(columns=\"Scénariste(s)\")\n",
    "\n",
    "# Afficher la table intermédiaire mise à jour\n",
    "print(df_intermediaire_movie_screenwriter.head())\n",
    "\n",
    "# Enregistrer la table intermédiaire mise à jour dans la base de données\n",
    "df_intermediaire_movie_screenwriter.to_sql(\"movie_screenwriter\", index=False, con=engine, if_exists=\"replace\")\n"
   ]
  },
  {
   "cell_type": "code",
   "execution_count": null,
   "metadata": {},
   "outputs": [],
   "source": [
    "# df_screenwriter.to_sql(\"screenwriter\",index=False,con = engine,if_exists = \"replace\" )"
   ]
  },
  {
   "cell_type": "code",
   "execution_count": null,
   "metadata": {},
   "outputs": [],
   "source": [
    "# df_intermediaire_movie_screenwriter.to_sql(\"movie_screenwriter\",index=False,con = engine,if_exists = \"replace\" )"
   ]
  },
  {
   "cell_type": "markdown",
   "metadata": {},
   "source": [
    "# table movie, music et intermediaire"
   ]
  },
  {
   "cell_type": "code",
   "execution_count": null,
   "metadata": {},
   "outputs": [],
   "source": [
    "list_col_movies = ['Numéro', \"Titre\" , 'Titre alternatif',\n",
    "                   'Année','Durée', \"Chemin de l'affiche\",'Bande-annonce', \n",
    "                   'Synopsis', 'Scénario', 'Emplacement', 'Conteneur',\n",
    "                   'Commentaires', 'Support', 'Taille du fichier','ID TheMovieDb', 'ID IMDb'] #rajouter le caracteristiques de films\n",
    "df_movie = df.copy()[list_col_movies]"
   ]
  },
  {
   "cell_type": "code",
   "execution_count": null,
   "metadata": {},
   "outputs": [],
   "source": [
    "list_music_movie = [\"Compositeur(s)\", 'Numéro']\n",
    "df_music_movie = df.copy()[list_music_movie]"
   ]
  },
  {
   "cell_type": "code",
   "execution_count": null,
   "metadata": {},
   "outputs": [],
   "source": [
    "df_music_movie [\"Compositeur(s)\"] = df_music_movie[\"Compositeur(s)\"].str.split(\",\\s*\")"
   ]
  },
  {
   "cell_type": "code",
   "execution_count": null,
   "metadata": {},
   "outputs": [],
   "source": [
    "df_music_movie  = df_music_movie.explode(\"Compositeur(s)\")"
   ]
  },
  {
   "cell_type": "code",
   "execution_count": null,
   "metadata": {},
   "outputs": [],
   "source": [
    "df_music  = df_music_movie.explode(\"Compositeur(s)\").drop_duplicates(\"Compositeur(s)\").reset_index(drop=True).reset_index()\n",
    "df_music = df_music.rename(columns={\"index\":\"id\"}).drop(columns=\"Numéro\")"
   ]
  },
  {
   "cell_type": "code",
   "execution_count": null,
   "metadata": {},
   "outputs": [],
   "source": [
    "df_intermediaire_movie_music = df_music.merge(df_music_movie, on = \"Compositeur(s)\").drop(columns=\"Compositeur(s)\")"
   ]
  },
  {
   "cell_type": "code",
   "execution_count": null,
   "metadata": {},
   "outputs": [],
   "source": [
    "display(df_music)"
   ]
  },
  {
   "cell_type": "code",
   "execution_count": null,
   "metadata": {},
   "outputs": [],
   "source": [
    "display(df_movie)"
   ]
  },
  {
   "cell_type": "code",
   "execution_count": null,
   "metadata": {},
   "outputs": [],
   "source": [
    "display(df_intermediaire_movie_music)"
   ]
  },
  {
   "cell_type": "code",
   "execution_count": null,
   "metadata": {},
   "outputs": [],
   "source": [
    "# Trouver l'index de la ligne avec le 'Compositeur(s)' NULL\n",
    "null_music_index = df_music[df_music['Compositeur(s)'].isnull()].index\n",
    "\n",
    "# Si une ligne avec 'Compositeur(s)' NULL est trouvée\n",
    "if not null_music_index.empty:\n",
    "    # Attribuer à cette ligne l'ID 0\n",
    "    df_music.loc[null_music_index, 'id'] = 0\n",
    "\n",
    "    # Décaler l'ID de la première ligne (anciennement index 0)\n",
    "    max_id = df_music['id'].max()\n",
    "    if max_id > 0:\n",
    "        df_music.loc[df_music.index[0], 'id'] = max_id + 1\n",
    "\n",
    "# Afficher le DataFrame modifié\n",
    "print(df_music.head())\n",
    "\n",
    "# Enregistrer le DataFrame modifié dans la table 'music' de la base de données\n",
    "df_music.to_sql(\"music\", index=False, con=engine, if_exists=\"replace\")\n",
    "\n",
    "# Recréer la table intermédiaire avec les données mises à jour\n",
    "df_intermediaire_movie_music = df_music.merge(df_music_movie, on=\"Compositeur(s)\").drop(columns=\"Compositeur(s)\")\n",
    "\n",
    "# Afficher la table intermédiaire mise à jour\n",
    "print(df_intermediaire_movie_music.head())\n",
    "\n",
    "# Enregistrer la table intermédiaire mise à jour dans la base de données\n",
    "df_intermediaire_movie_music.to_sql(\"movie_music\", index=False, con=engine, if_exists=\"replace\")\n"
   ]
  },
  {
   "cell_type": "code",
   "execution_count": null,
   "metadata": {},
   "outputs": [],
   "source": [
    "# df_music.to_sql(\"music\",index=False,con = engine,if_exists = \"replace\" )"
   ]
  },
  {
   "cell_type": "code",
   "execution_count": null,
   "metadata": {},
   "outputs": [],
   "source": [
    "df_intermediaire_movie_music.to_sql(\"movie_music\",index=False,con = engine,if_exists = \"replace\" )"
   ]
  },
  {
   "cell_type": "markdown",
   "metadata": {},
   "source": [
    "# table movie, studio et intermediaire"
   ]
  },
  {
   "cell_type": "code",
   "execution_count": null,
   "metadata": {},
   "outputs": [],
   "source": [
    "list_col_movies = ['Numéro', \"Titre\" , 'Titre alternatif',\n",
    "                   'Année','Durée', \"Chemin de l'affiche\",'Bande-annonce', \n",
    "                   'Synopsis', 'Scénario', 'Emplacement', 'Conteneur',\n",
    "                   'Commentaires', 'Support', 'Taille du fichier','ID TheMovieDb', 'ID IMDb'] #rajouter le caracteristiques de films\n",
    "df_movie = df.copy()[list_col_movies]"
   ]
  },
  {
   "cell_type": "code",
   "execution_count": null,
   "metadata": {},
   "outputs": [],
   "source": [
    "list_studio_movie = [\"Studio\", 'Numéro']\n",
    "df_studio_movie = df.copy()[list_studio_movie]"
   ]
  },
  {
   "cell_type": "code",
   "execution_count": null,
   "metadata": {},
   "outputs": [],
   "source": [
    "df_studio_movie [\"Studio\"] = df_studio_movie[\"Studio\"].str.split(\",\\s*\")"
   ]
  },
  {
   "cell_type": "code",
   "execution_count": null,
   "metadata": {},
   "outputs": [],
   "source": [
    "df_studio_movie  = df_studio_movie.explode(\"Studio\")"
   ]
  },
  {
   "cell_type": "code",
   "execution_count": null,
   "metadata": {},
   "outputs": [],
   "source": [
    "df_studio  = df_studio_movie.explode(\"Studio\").drop_duplicates(\"Studio\").reset_index(drop=True).reset_index()\n",
    "df_studio = df_studio.rename(columns={\"index\":\"id\"}).drop(columns=\"Numéro\")"
   ]
  },
  {
   "cell_type": "code",
   "execution_count": null,
   "metadata": {},
   "outputs": [],
   "source": [
    "df_intermediaire_movie_studio = df_studio.merge(df_studio_movie, on = \"Studio\").drop(columns=\"Studio\")"
   ]
  },
  {
   "cell_type": "code",
   "execution_count": null,
   "metadata": {},
   "outputs": [],
   "source": [
    "display(df_studio)"
   ]
  },
  {
   "cell_type": "code",
   "execution_count": null,
   "metadata": {},
   "outputs": [],
   "source": [
    "display(df_movie)"
   ]
  },
  {
   "cell_type": "code",
   "execution_count": null,
   "metadata": {},
   "outputs": [],
   "source": [
    "display(df_intermediaire_movie_studio)"
   ]
  },
  {
   "cell_type": "code",
   "execution_count": null,
   "metadata": {},
   "outputs": [],
   "source": [
    "# Trouver l'index de la ligne avec le 'Studio' NULL\n",
    "null_studio_index = df_studio[df_studio['Studio'].isnull()].index\n",
    "\n",
    "# Si une ligne avec 'Studio' NULL est trouvée\n",
    "if not null_studio_index.empty:\n",
    "    # Attribuer à cette ligne l'ID 0\n",
    "    df_studio.loc[null_studio_index, 'id'] = 0\n",
    "\n",
    "    # Décaler l'ID de la première ligne (anciennement index 0)\n",
    "    max_id = df_studio['id'].max()\n",
    "    if max_id > 0:\n",
    "        df_studio.loc[df_studio.index[0], 'id'] = max_id + 1\n",
    "\n",
    "# Afficher le DataFrame modifié\n",
    "print(df_studio.head())\n",
    "\n",
    "# Enregistrer le DataFrame modifié dans la table 'studio' de la base de données\n",
    "df_studio.to_sql(\"studio\", index=False, con=engine, if_exists=\"replace\")\n",
    "\n",
    "# Recréer la table intermédiaire avec les données mises à jour\n",
    "df_intermediaire_movie_studio = df_studio.merge(df_studio_movie, on=\"Studio\").drop(columns=\"Studio\")\n",
    "\n",
    "# Afficher la table intermédiaire mise à jour\n",
    "print(df_intermediaire_movie_studio.head())\n",
    "\n",
    "# Enregistrer la table intermédiaire mise à jour dans la base de données\n",
    "df_intermediaire_movie_studio.to_sql(\"movie_studio\", index=False, con=engine, if_exists=\"replace\")\n"
   ]
  },
  {
   "cell_type": "code",
   "execution_count": null,
   "metadata": {},
   "outputs": [],
   "source": [
    "# df_studio.to_sql(\"studio\",index=False,con = engine,if_exists = \"replace\" )"
   ]
  },
  {
   "cell_type": "code",
   "execution_count": null,
   "metadata": {},
   "outputs": [],
   "source": [
    "df_intermediaire_movie_studio.to_sql(\"movie_studio\",index=False,con = engine,if_exists = \"replace\" )"
   ]
  },
  {
   "cell_type": "markdown",
   "metadata": {},
   "source": [
    "# table movie, casting & intermediaire"
   ]
  },
  {
   "cell_type": "code",
   "execution_count": null,
   "metadata": {},
   "outputs": [],
   "source": [
    "list_col_movies = ['Numéro', \"Titre\" , 'Titre alternatif',\n",
    "                   'Année','Durée', \"Chemin de l'affiche\",'Bande-annonce', \n",
    "                   'Synopsis', 'Scénario', 'Emplacement', 'Conteneur',\n",
    "                   'Commentaires', 'Support', 'Taille du fichier','ID TheMovieDb', 'ID IMDb'] #rajouter le caracteristiques de films\n",
    "df_movie = df.copy()[list_col_movies]"
   ]
  },
  {
   "cell_type": "code",
   "execution_count": null,
   "metadata": {},
   "outputs": [],
   "source": [
    "list_casting_movie = [\"Distribution\", 'Numéro']\n",
    "df_casting_movie = df.copy()[list_casting_movie]"
   ]
  },
  {
   "cell_type": "code",
   "execution_count": null,
   "metadata": {},
   "outputs": [],
   "source": [
    "df_casting_movie [\"Distribution\"] = df_casting_movie[\"Distribution\"].str.split(\",\\s*\")"
   ]
  },
  {
   "cell_type": "code",
   "execution_count": null,
   "metadata": {},
   "outputs": [],
   "source": [
    "df_casting_movie  = df_casting_movie.explode(\"Distribution\")"
   ]
  },
  {
   "cell_type": "code",
   "execution_count": null,
   "metadata": {},
   "outputs": [],
   "source": [
    "df_casting  = df_casting_movie.explode(\"Distribution\").drop_duplicates(\"Distribution\").reset_index(drop=True).reset_index()\n",
    "df_casting = df_casting.rename(columns={\"index\":\"id\"}).drop(columns=\"Numéro\")"
   ]
  },
  {
   "cell_type": "code",
   "execution_count": null,
   "metadata": {},
   "outputs": [],
   "source": [
    "df_intermediaire_movie_casting = df_casting.merge(df_casting_movie, on = \"Distribution\").drop(columns=\"Distribution\")"
   ]
  },
  {
   "cell_type": "code",
   "execution_count": null,
   "metadata": {},
   "outputs": [],
   "source": [
    "display(df_casting)"
   ]
  },
  {
   "cell_type": "code",
   "execution_count": null,
   "metadata": {},
   "outputs": [],
   "source": [
    "display(df_movie)"
   ]
  },
  {
   "cell_type": "code",
   "execution_count": null,
   "metadata": {},
   "outputs": [],
   "source": [
    "display(df_intermediaire_movie_casting)"
   ]
  },
  {
   "cell_type": "code",
   "execution_count": null,
   "metadata": {},
   "outputs": [],
   "source": [
    "# Trouver l'index de la ligne avec la 'Distribution' NULL\n",
    "null_casting_index = df_casting[df_casting['Distribution'].isnull()].index\n",
    "\n",
    "# Si une ligne avec 'Distribution' NULL est trouvée\n",
    "if not null_casting_index.empty:\n",
    "    # Attribuer à cette ligne l'ID 0\n",
    "    df_casting.loc[null_casting_index, 'id'] = 0\n",
    "\n",
    "    # Décaler l'ID de la première ligne (anciennement index 0)\n",
    "    max_id = df_casting['id'].max()\n",
    "    if max_id > 0:\n",
    "        df_casting.loc[df_casting.index[0], 'id'] = max_id + 1\n",
    "\n",
    "# Afficher le DataFrame modifié\n",
    "print(df_casting.head())\n",
    "\n",
    "# Enregistrer le DataFrame modifié dans la table 'casting' de la base de données\n",
    "df_casting.to_sql(\"casting\", index=False, con=engine, if_exists=\"replace\")\n",
    "\n",
    "# Recréer la table intermédiaire avec les données mises à jour\n",
    "df_intermediaire_movie_casting = df_casting.merge(df_casting_movie, on=\"Distribution\").drop(columns=\"Distribution\")\n",
    "\n",
    "# Afficher la table intermédiaire mise à jour\n",
    "print(df_intermediaire_movie_casting.head())\n",
    "\n",
    "# Enregistrer la table intermédiaire mise à jour dans la base de données\n",
    "df_intermediaire_movie_casting.to_sql(\"movie_casting\", index=False, con=engine, if_exists=\"replace\")\n"
   ]
  },
  {
   "cell_type": "code",
   "execution_count": null,
   "metadata": {},
   "outputs": [],
   "source": [
    "# df_casting.to_sql(\"casting\",index=False,con = engine,if_exists = \"replace\" )"
   ]
  },
  {
   "cell_type": "code",
   "execution_count": null,
   "metadata": {},
   "outputs": [],
   "source": [
    "# df_intermediaire_movie_casting.to_sql(\"movie_casting\",index=False,con = engine,if_exists = \"replace\" )"
   ]
  },
  {
   "cell_type": "markdown",
   "metadata": {},
   "source": [
    "# table movie, country & intermediaire"
   ]
  },
  {
   "cell_type": "code",
   "execution_count": null,
   "metadata": {},
   "outputs": [],
   "source": [
    "list_col_movies = ['Numéro', \"Titre\" , 'Titre alternatif',\n",
    "                   'Année','Durée', \"Chemin de l'affiche\",'Bande-annonce', \n",
    "                   'Synopsis', 'Scénario', 'Emplacement', 'Conteneur',\n",
    "                   'Commentaires', 'Support', 'Taille du fichier','ID TheMovieDb', 'ID IMDb'] #rajouter le caracteristiques de films\n",
    "df_movie = df.copy()[list_col_movies]"
   ]
  },
  {
   "cell_type": "code",
   "execution_count": null,
   "metadata": {},
   "outputs": [],
   "source": [
    "list_country_movie = [\"Pays\", 'Numéro']\n",
    "df_country_movie = df.copy()[list_country_movie]"
   ]
  },
  {
   "cell_type": "code",
   "execution_count": null,
   "metadata": {},
   "outputs": [],
   "source": [
    "df_country_movie [\"Pays\"] = df_country_movie[\"Pays\"].str.split(\",\\s*\")"
   ]
  },
  {
   "cell_type": "code",
   "execution_count": null,
   "metadata": {},
   "outputs": [],
   "source": [
    "df_country_movie  = df_country_movie.explode(\"Pays\")"
   ]
  },
  {
   "cell_type": "code",
   "execution_count": null,
   "metadata": {},
   "outputs": [],
   "source": [
    "df_country  = df_country_movie.explode(\"Pays\").drop_duplicates(\"Pays\").reset_index(drop=True).reset_index()\n",
    "df_country = df_country.rename(columns={\"index\":\"id\"}).drop(columns=\"Numéro\")"
   ]
  },
  {
   "cell_type": "code",
   "execution_count": null,
   "metadata": {},
   "outputs": [],
   "source": [
    "df_intermediaire_movie_country = df_country.merge(df_country_movie, on = \"Pays\").drop(columns=\"Pays\")"
   ]
  },
  {
   "cell_type": "code",
   "execution_count": null,
   "metadata": {},
   "outputs": [],
   "source": [
    "display(df_country)"
   ]
  },
  {
   "cell_type": "code",
   "execution_count": null,
   "metadata": {},
   "outputs": [],
   "source": [
    "display(df_movie)"
   ]
  },
  {
   "cell_type": "code",
   "execution_count": null,
   "metadata": {},
   "outputs": [],
   "source": [
    "display(df_intermediaire_movie_country)"
   ]
  },
  {
   "cell_type": "code",
   "execution_count": null,
   "metadata": {},
   "outputs": [],
   "source": [
    "# Trouver l'index de la ligne avec le 'Pays' NULL\n",
    "null_country_index = df_country[df_country['Pays'].isnull()].index\n",
    "\n",
    "# Si une ligne avec 'Pays' NULL est trouvée\n",
    "if not null_country_index.empty:\n",
    "    # Attribuer à cette ligne l'ID 0\n",
    "    df_country.loc[null_country_index, 'id'] = 0\n",
    "\n",
    "    # Décaler l'ID de la première ligne (anciennement index 0)\n",
    "    max_id = df_country['id'].max()\n",
    "    if max_id > 0:\n",
    "        df_country.loc[df_country.index[0], 'id'] = max_id + 1\n",
    "\n",
    "# Afficher le DataFrame modifié\n",
    "print(df_country.head())\n",
    "\n",
    "# Enregistrer le DataFrame modifié dans la table 'country' de la base de données\n",
    "df_country.to_sql(\"country\", index=False, con=engine, if_exists=\"replace\")\n",
    "\n",
    "# Recréer la table intermédiaire avec les données mises à jour\n",
    "df_intermediaire_movie_country = df_country.merge(df_country_movie, on=\"Pays\").drop(columns=\"Pays\")\n",
    "\n",
    "# Afficher la table intermédiaire mise à jour\n",
    "print(df_intermediaire_movie_country.head())\n",
    "\n",
    "# Enregistrer la table intermédiaire mise à jour dans la base de données\n",
    "df_intermediaire_movie_country.to_sql(\"movie_country\", index=False, con=engine, if_exists=\"replace\")"
   ]
  },
  {
   "cell_type": "code",
   "execution_count": null,
   "metadata": {},
   "outputs": [],
   "source": [
    "# df_country.to_sql(\"country\",index=False,con = engine,if_exists = \"replace\" )"
   ]
  },
  {
   "cell_type": "code",
   "execution_count": null,
   "metadata": {},
   "outputs": [],
   "source": [
    "df_intermediaire_movie_country.to_sql(\"movie_country\",index=False,con = engine,if_exists = \"replace\" )"
   ]
  },
  {
   "cell_type": "markdown",
   "metadata": {},
   "source": [
    "# table movie, genre & intermediaire"
   ]
  },
  {
   "cell_type": "code",
   "execution_count": null,
   "metadata": {},
   "outputs": [],
   "source": [
    "list_col_movies = ['Numéro', \"Titre\" , 'Titre alternatif',\n",
    "                   'Année','Durée', \"Chemin de l'affiche\",'Bande-annonce', \n",
    "                   'Synopsis', 'Scénario', 'Emplacement', 'Conteneur',\n",
    "                   'Commentaires', 'Support', 'Taille du fichier','ID TheMovieDb', 'ID IMDb'] #rajouter le caracteristiques de films\n",
    "df_movie = df.copy()[list_col_movies]"
   ]
  },
  {
   "cell_type": "code",
   "execution_count": null,
   "metadata": {},
   "outputs": [],
   "source": [
    "list_genre_movie = [\"Genre(s)\", 'Numéro']\n",
    "df_genre_movie = df.copy()[list_genre_movie]"
   ]
  },
  {
   "cell_type": "code",
   "execution_count": null,
   "metadata": {},
   "outputs": [],
   "source": [
    "df_genre_movie [\"Genre(s)\"] = df_genre_movie[\"Genre(s)\"].str.split(\",\\s*\")"
   ]
  },
  {
   "cell_type": "code",
   "execution_count": null,
   "metadata": {},
   "outputs": [],
   "source": [
    "df_genre_movie  = df_genre_movie.explode(\"Genre(s)\")"
   ]
  },
  {
   "cell_type": "code",
   "execution_count": null,
   "metadata": {},
   "outputs": [],
   "source": [
    "df_genre  = df_genre_movie.explode(\"Genre(s)\").drop_duplicates(\"Genre(s)\").reset_index(drop=True).reset_index()\n",
    "df_genre = df_genre.rename(columns={\"index\":\"id\"}).drop(columns=\"Numéro\")"
   ]
  },
  {
   "cell_type": "code",
   "execution_count": null,
   "metadata": {},
   "outputs": [],
   "source": [
    "df_intermediaire_movie_genre = df_genre.merge(df_genre_movie, on = \"Genre(s)\").drop(columns=\"Genre(s)\")"
   ]
  },
  {
   "cell_type": "code",
   "execution_count": null,
   "metadata": {},
   "outputs": [],
   "source": [
    "display(df_genre)"
   ]
  },
  {
   "cell_type": "code",
   "execution_count": null,
   "metadata": {},
   "outputs": [],
   "source": [
    "display(df_movie)"
   ]
  },
  {
   "cell_type": "code",
   "execution_count": null,
   "metadata": {},
   "outputs": [],
   "source": [
    "display(df_intermediaire_movie_genre)"
   ]
  },
  {
   "cell_type": "code",
   "execution_count": null,
   "metadata": {},
   "outputs": [],
   "source": [
    "# Trouver l'index de la ligne avec le 'Genre(s)' NULL\n",
    "null_genre_index = df_genre[df_genre['Genre(s)'].isnull()].index\n",
    "\n",
    "# Si une ligne avec 'Genre(s)' NULL est trouvée\n",
    "if not null_genre_index.empty:\n",
    "    # Attribuer à cette ligne l'ID 0\n",
    "    df_genre.loc[null_genre_index, 'id'] = 0\n",
    "\n",
    "    # Décaler l'ID de la première ligne (anciennement index 0)\n",
    "    max_id = df_genre['id'].max()\n",
    "    if max_id > 0:\n",
    "        df_genre.loc[df_genre.index[0], 'id'] = max_id + 1\n",
    "\n",
    "# Afficher le DataFrame modifié\n",
    "print(df_genre.head())\n",
    "\n",
    "# Enregistrer le DataFrame modifié dans la table 'genre' de la base de données\n",
    "df_genre.to_sql(\"genre\", index=False, con=engine, if_exists=\"replace\")\n",
    "\n",
    "# Recréer la table intermédiaire avec les données mises à jour\n",
    "df_intermediaire_movie_genre = df_genre.merge(df_genre_movie, on=\"Genre(s)\").drop(columns=\"Genre(s)\")\n",
    "\n",
    "# Afficher la table intermédiaire mise à jour\n",
    "print(df_intermediaire_movie_genre.head())\n",
    "\n",
    "# Enregistrer la table intermédiaire mise à jour dans la base de données\n",
    "df_intermediaire_movie_genre.to_sql(\"movie_genre\", index=False, con=engine, if_exists=\"replace\")\n"
   ]
  },
  {
   "cell_type": "code",
   "execution_count": null,
   "metadata": {},
   "outputs": [],
   "source": [
    "df_genre.to_sql(\"genre\",index=False,con = engine,if_exists = \"replace\" )"
   ]
  },
  {
   "cell_type": "code",
   "execution_count": null,
   "metadata": {},
   "outputs": [],
   "source": [
    "df_intermediaire_movie_genre.to_sql(\"movie_genre\",index=False,con = engine,if_exists = \"replace\" )"
   ]
  },
  {
   "cell_type": "markdown",
   "metadata": {},
   "source": [
    "# table movie, language & intermediaire"
   ]
  },
  {
   "cell_type": "code",
   "execution_count": null,
   "metadata": {},
   "outputs": [],
   "source": [
    "list_col_movies = ['Numéro', \"Titre\" , 'Titre alternatif',\n",
    "                   'Année','Durée', \"Chemin de l'affiche\",'Bande-annonce', \n",
    "                   'Synopsis', 'Scénario', 'Emplacement', 'Conteneur',\n",
    "                   'Commentaires', 'Support', 'Taille du fichier','ID TheMovieDb', 'ID IMDb'] #rajouter le caracteristiques de films\n",
    "df_movie = df.copy()[list_col_movies]"
   ]
  },
  {
   "cell_type": "code",
   "execution_count": null,
   "metadata": {},
   "outputs": [],
   "source": [
    "list_language_movie = [\"Langues\", 'Numéro']\n",
    "df_language_movie = df.copy()[list_language_movie]"
   ]
  },
  {
   "cell_type": "code",
   "execution_count": null,
   "metadata": {},
   "outputs": [],
   "source": [
    "df_language_movie [\"Langues\"] = df_language_movie[\"Langues\"].str.split(\",\\s*\")"
   ]
  },
  {
   "cell_type": "code",
   "execution_count": null,
   "metadata": {},
   "outputs": [],
   "source": [
    "df_language_movie  = df_language_movie.explode(\"Langues\")"
   ]
  },
  {
   "cell_type": "code",
   "execution_count": null,
   "metadata": {},
   "outputs": [],
   "source": [
    "df_language  = df_language_movie.explode(\"Langues\").drop_duplicates(\"Langues\").reset_index(drop=True).reset_index()\n",
    "df_language = df_language.rename(columns={\"index\":\"id\"}).drop(columns=\"Numéro\")"
   ]
  },
  {
   "cell_type": "code",
   "execution_count": null,
   "metadata": {},
   "outputs": [],
   "source": [
    "df_intermediaire_movie_language = df_language.merge(df_language_movie, on = \"Langues\").drop(columns=\"Langues\")"
   ]
  },
  {
   "cell_type": "code",
   "execution_count": null,
   "metadata": {},
   "outputs": [],
   "source": [
    "display(df_language)"
   ]
  },
  {
   "cell_type": "code",
   "execution_count": null,
   "metadata": {},
   "outputs": [],
   "source": [
    "display(df_movie)"
   ]
  },
  {
   "cell_type": "code",
   "execution_count": null,
   "metadata": {},
   "outputs": [],
   "source": [
    "display(df_intermediaire_movie_language)"
   ]
  },
  {
   "cell_type": "code",
   "execution_count": null,
   "metadata": {},
   "outputs": [],
   "source": [
    "# Trouver l'index de la ligne avec les 'Langues' NULL\n",
    "null_language_index = df_language[df_language['Langues'].isnull()].index\n",
    "\n",
    "# Si une ligne avec 'Langues' NULL est trouvée\n",
    "if not null_language_index.empty:\n",
    "    # Attribuer à cette ligne l'ID 0\n",
    "    df_language.loc[null_language_index, 'id'] = 0\n",
    "\n",
    "    # Décaler l'ID de la première ligne (anciennement index 0)\n",
    "    max_id = df_language['id'].max()\n",
    "    if max_id > 0:\n",
    "        df_language.loc[df_language.index[0], 'id'] = max_id + 1\n",
    "\n",
    "# Afficher le DataFrame modifié\n",
    "print(df_language.head())\n",
    "\n",
    "# Enregistrer le DataFrame modifié dans la table 'language' de la base de données\n",
    "df_language.to_sql(\"language\", index=False, con=engine, if_exists=\"replace\")\n",
    "\n",
    "# Recréer la table intermédiaire avec les données mises à jour\n",
    "df_intermediaire_movie_language = df_language.merge(df_language_movie, on=\"Langues\").drop(columns=\"Langues\")\n",
    "\n",
    "# Afficher la table intermédiaire mise à jour\n",
    "print(df_intermediaire_movie_language.head())\n",
    "\n",
    "# Enregistrer la table intermédiaire mise à jour dans la base de données\n",
    "df_intermediaire_movie_language.to_sql(\"movie_language\", index=False, con=engine, if_exists=\"replace\")\n"
   ]
  },
  {
   "cell_type": "code",
   "execution_count": null,
   "metadata": {},
   "outputs": [],
   "source": [
    "# df_language.to_sql(\"language\",index=False,con = engine,if_exists = \"replace\" )"
   ]
  },
  {
   "cell_type": "code",
   "execution_count": null,
   "metadata": {},
   "outputs": [],
   "source": [
    "df_intermediaire_movie_language.to_sql(\"movie_language\",index=False,con = engine,if_exists = \"replace\" )"
   ]
  },
  {
   "cell_type": "markdown",
   "metadata": {},
   "source": [
    "# table, movie, tag & intermediaire"
   ]
  },
  {
   "cell_type": "code",
   "execution_count": null,
   "metadata": {},
   "outputs": [],
   "source": [
    "list_col_movies = ['Numéro', \"Titre\" , 'Titre alternatif',\n",
    "                   'Année','Durée', \"Chemin de l'affiche\",'Bande-annonce', \n",
    "                   'Synopsis', 'Scénario', 'Emplacement', 'Conteneur',\n",
    "                   'Commentaires', 'Support', 'Taille du fichier','ID TheMovieDb', 'ID IMDb'] #rajouter le caracteristiques de films\n",
    "df_movie = df.copy()[list_col_movies]"
   ]
  },
  {
   "cell_type": "code",
   "execution_count": null,
   "metadata": {},
   "outputs": [],
   "source": [
    "list_tag_movie = [\"Etiquettes\", 'Numéro']\n",
    "df_tag_movie = df.copy()[list_tag_movie]"
   ]
  },
  {
   "cell_type": "code",
   "execution_count": null,
   "metadata": {},
   "outputs": [],
   "source": [
    "df_tag_movie [\"Etiquettes\"] = df_tag_movie[\"Etiquettes\"].str.split(\",\\s*\")"
   ]
  },
  {
   "cell_type": "code",
   "execution_count": null,
   "metadata": {},
   "outputs": [],
   "source": [
    "df_tag_movie  = df_tag_movie.explode(\"Etiquettes\")"
   ]
  },
  {
   "cell_type": "code",
   "execution_count": null,
   "metadata": {},
   "outputs": [],
   "source": [
    "df_tag = df_tag_movie.explode(\"Etiquettes\").drop_duplicates(\"Etiquettes\").reset_index(drop=True).reset_index()\n",
    "df_tag = df_tag.rename(columns={\"index\":\"id\"}).drop(columns=\"Numéro\")"
   ]
  },
  {
   "cell_type": "code",
   "execution_count": null,
   "metadata": {},
   "outputs": [],
   "source": [
    "df_intermediaire_movie_tag = df_tag.merge(df_tag_movie, on = \"Etiquettes\").drop(columns=\"Etiquettes\")"
   ]
  },
  {
   "cell_type": "code",
   "execution_count": null,
   "metadata": {},
   "outputs": [],
   "source": [
    "display(df_tag)"
   ]
  },
  {
   "cell_type": "code",
   "execution_count": null,
   "metadata": {},
   "outputs": [],
   "source": [
    "display(df_movie)"
   ]
  },
  {
   "cell_type": "code",
   "execution_count": null,
   "metadata": {},
   "outputs": [],
   "source": [
    "display(df_intermediaire_movie_tag)"
   ]
  },
  {
   "cell_type": "code",
   "execution_count": null,
   "metadata": {},
   "outputs": [],
   "source": [
    "# Trouver l'index de la ligne avec les 'Etiquettes' NULL\n",
    "null_tag_index = df_tag[df_tag['Etiquettes'].isnull()].index\n",
    "\n",
    "# Si une ligne avec 'Etiquettes' NULL est trouvée\n",
    "if not null_tag_index.empty:\n",
    "    # Attribuer à cette ligne l'ID 0\n",
    "    df_tag.loc[null_tag_index, 'id'] = 0\n",
    "\n",
    "    # Décaler l'ID de la première ligne (anciennement index 0)\n",
    "    max_id = df_tag['id'].max()\n",
    "    if max_id > 0:\n",
    "        df_tag.loc[df_tag.index[0], 'id'] = max_id + 1\n",
    "\n",
    "# Afficher le DataFrame modifié\n",
    "print(df_tag.head())\n",
    "\n",
    "# Enregistrer le DataFrame modifié dans la table 'tag' de la base de données\n",
    "df_tag.to_sql(\"tag\", index=False, con=engine, if_exists=\"replace\")\n",
    "\n",
    "# Recréer la table intermédiaire avec les données mises à jour\n",
    "df_intermediaire_movie_tag = df_tag.merge(df_tag_movie, on=\"Etiquettes\").drop(columns=\"Etiquettes\")\n",
    "\n",
    "# Afficher la table intermédiaire mise à jour\n",
    "print(df_intermediaire_movie_tag.head())\n",
    "\n",
    "# Enregistrer la table intermédiaire mise à jour dans la base de données\n",
    "df_intermediaire_movie_tag.to_sql(\"movie_tag\", index=False, con=engine, if_exists=\"replace\")\n"
   ]
  },
  {
   "cell_type": "code",
   "execution_count": null,
   "metadata": {},
   "outputs": [],
   "source": [
    "# df_tag.to_sql(\"tag\",index=False,con = engine,if_exists = \"replace\" )"
   ]
  },
  {
   "cell_type": "code",
   "execution_count": null,
   "metadata": {},
   "outputs": [],
   "source": [
    "# df_intermediaire_movie_tag.to_sql(\"movie_tag\",index=False,con = engine,if_exists = \"replace\" )"
   ]
  }
 ],
 "metadata": {
  "kernelspec": {
   "display_name": "Python 3",
   "language": "python",
   "name": "python3"
  },
  "language_info": {
   "codemirror_mode": {
    "name": "ipython",
    "version": 3
   },
   "file_extension": ".py",
   "mimetype": "text/x-python",
   "name": "python",
   "nbconvert_exporter": "python",
   "pygments_lexer": "ipython3",
   "version": "undefined.undefined.undefined"
  }
 },
 "nbformat": 4,
 "nbformat_minor": 2
}
